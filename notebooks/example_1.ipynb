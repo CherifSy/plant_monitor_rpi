{
 "cells": [
  {
   "cell_type": "markdown",
   "metadata": {},
   "source": [
    "# Example of loading data from a file and plotting values\n",
    "\n",
    "In the first cell of the jupyter notebook, we will include Python libraries for plotting. We are going to use matplotlib."
   ]
  },
  {
   "cell_type": "code",
   "execution_count": 1,
   "metadata": {
    "collapsed": true
   },
   "outputs": [],
   "source": [
    "%matplotlib inline\n",
    "import matplotlib.pyplot as plt\n",
    "import matplotlib.dates as mdates\n",
    "\n",
    "# Set larger font size\n",
    "import matplotlib\n",
    "matplotlib.rcParams.update({'font.size': 14})"
   ]
  },
  {
   "cell_type": "markdown",
   "metadata": {},
   "source": [
    "### Loading data from a file\n",
    "\n",
    "The plant monitor measurements for each device are stored in separate files on the server under `/data/measurements`. The filenames correspond to the device MAC addresses and have `.csv` extension. This stands for comma-separated-value which indicates that each measurement, corresponding to a single row in the file, is represented as values separated by commas.\n",
    "\n",
    "You can list the individual files in the directory in the following way."
   ]
  },
  {
   "cell_type": "code",
   "execution_count": 2,
   "metadata": {},
   "outputs": [
    {
     "name": "stdout",
     "output_type": "stream",
     "text": [
      "C47C8D65CB0F.csv\n",
      "C47C8D65BD76.csv\n"
     ]
    }
   ],
   "source": [
    "import os\n",
    "\n",
    "files = os.listdir(\"/data/measurements\")\n",
    "\n",
    "# Print the files on one line each.\n",
    "print('\\n'.join(files))"
   ]
  },
  {
   "cell_type": "markdown",
   "metadata": {},
   "source": [
    "We will load data from one of the files into a Pandas dataframe, giving each column in the file appropriate name. "
   ]
  },
  {
   "cell_type": "code",
   "execution_count": 3,
   "metadata": {
    "scrolled": false
   },
   "outputs": [
    {
     "name": "stdout",
     "output_type": "stream",
     "text": [
      "                           time  moisture  temperature  conductivity  light\n",
      "0    2018-01-31 20:10:06.394177         0         20.9             0     53\n",
      "1    2018-02-01 14:36:58.079419         8         19.5            63   1866\n",
      "2    2018-02-01 15:33:05.796115         8         19.1            63    271\n",
      "3    2018-02-01 16:30:14.797963         8         20.0            58     71\n",
      "4    2018-02-01 17:30:13.672170         8         19.3            59     53\n",
      "5    2018-02-01 18:30:15.597362         8         19.0            58     53\n",
      "6    2018-02-01 19:30:15.499216         8         18.9            58     35\n",
      "7    2018-02-01 20:30:13.547148         8         18.9            55     35\n",
      "8    2018-02-01 21:30:13.431691         8         18.9            55     35\n",
      "9    2018-02-01 22:30:13.443831         8         18.9            55     16\n",
      "10   2018-02-01 23:30:13.407384         8         18.6            55     32\n",
      "11   2018-02-02 00:30:14.418258         8         18.5            56     14\n",
      "12   2018-02-02 01:30:13.377033         8         18.3            56     32\n",
      "13   2018-02-02 02:30:13.387332         8         18.1            54     32\n",
      "14   2018-02-02 03:30:13.387121         8         18.1            54     14\n",
      "15   2018-02-02 04:30:15.187399         8         18.0            54     32\n",
      "16   2018-02-02 05:30:16.151405         8         18.0            54     52\n",
      "17   2018-02-02 06:30:14.238550         8         17.9            54     32\n",
      "18   2018-02-02 07:30:14.168770         8         19.7            50    110\n",
      "19   2018-02-02 08:30:14.217283        28         19.0           317    580\n",
      "20   2018-02-02 09:30:16.113486        25         19.2           295    238\n",
      "21   2018-02-02 10:30:17.067040        23         19.0           285    501\n",
      "22   2018-02-02 11:30:15.019872        23         21.1           270   9637\n",
      "23   2018-02-02 12:30:14.922683        23         22.6           263  20376\n",
      "24   2018-02-02 13:30:24.970669        22         20.9           271   1037\n",
      "25   2018-02-02 14:30:12.977549        21         20.7           269   1289\n",
      "26   2018-02-02 15:30:13.908732        21         19.4           267     90\n",
      "27   2018-02-02 16:30:13.897414        20         19.0           260     71\n",
      "28   2018-02-02 17:30:13.847768        20         18.8           253     32\n",
      "29   2018-02-02 18:30:16.788191        20         18.8           248     52\n",
      "30   2018-02-02 19:30:14.717031        20         18.6           243     14\n",
      "31   2018-02-02 20:30:13.828525        20         18.3           241     32\n",
      "32   2018-02-02 21:30:14.661395        19         18.8           237     32\n",
      "33   2018-02-02 22:30:14.667277        19         18.5           235     14\n",
      "34   2018-02-02 23:30:13.634559        18         18.0           231     35\n",
      "35   2018-02-03 00:30:14.657314        18         17.8           228     32\n",
      "36   2018-02-03 01:30:15.577363        18         17.6           226     17\n",
      "37   2018-02-03 02:30:13.564803        18         17.5           224     35\n",
      "38   2018-02-03 03:30:16.507367        18         17.4           222     32\n",
      "39   2018-02-03 04:30:16.487289        17         17.3           218     32\n",
      "40   2018-02-03 05:30:13.444074        17         17.2           217     35\n",
      "41   2018-02-03 06:30:16.403432        16         17.1           213     17\n",
      "42   2018-02-03 07:30:14.457058        16         17.3           211     35\n",
      "43   2018-02-03 08:30:13.364605        16         17.3           210    163\n",
      "44   2018-02-03 09:30:14.307086        16         17.4           208    405\n",
      "45   2018-02-03 10:30:15.315100        16         18.0           204   1819\n",
      "46   2018-02-03 11:30:14.263673        16         20.6           200  10188\n",
      "47   2018-02-03 12:30:15.217101        16         20.1           207   6155\n",
      "48   2018-02-03 13:30:14.217227        16         18.1           211    335\n",
      "49   2018-02-03 14:30:14.142546        16         18.0           206   1182\n",
      "50   2018-02-03 15:30:17.117589        16         17.6           201    238\n",
      "51   2018-02-03 16:30:14.107365        16         17.4           201     32\n",
      "52   2018-02-03 17:30:14.048843        16         18.1           198     32\n",
      "53   2018-02-03 18:30:16.067268        16         19.0           191     52\n",
      "54   2018-02-03 19:30:15.974413        16         18.4           194     32\n",
      "55   2018-02-03 20:30:16.967357        16         18.3           194     35\n",
      "56   2018-02-03 21:30:17.119288        16         18.4           191     52\n",
      "57   2018-02-03 22:30:13.897351        15         18.3           192     32\n",
      "58   2018-02-03 23:30:13.877009        15         18.2           192     35\n",
      "59   2018-02-04 00:30:15.827323        15         18.3           188     32\n",
      "60   2018-02-04 01:30:13.837063        15         18.2           187     35\n",
      "61   2018-02-04 02:30:13.847225        15         18.3           186     32\n",
      "62   2018-02-04 03:30:15.787056        15         18.3           184     32\n",
      "63   2018-02-04 04:30:14.697321        15         18.4           182     35\n",
      "64   2018-02-04 05:30:13.677024        15         18.2           183     32\n",
      "65   2018-02-04 06:30:14.637082        15         18.3           180     55\n",
      "66   2018-02-04 07:30:13.628378        15         18.3           178     90\n",
      "67   2018-02-04 08:30:16.605354        15         18.4           177    318\n",
      "68   2018-02-04 09:30:15.667341        15         18.5           175    417\n",
      "69   2018-02-04 10:30:16.683018        15         21.9           167   8186\n",
      "70   2018-02-04 11:30:13.557252        14         24.6           170  11560\n",
      "71   2018-02-04 12:30:13.446584        15         27.3           169  17135\n",
      "72   2018-02-04 14:30:15.417132        13         19.7           183    386\n",
      "73   2018-02-04 15:30:13.407208        13         19.1           176    174\n",
      "74   2018-02-04 16:30:17.387378        13         18.6           172     35\n",
      "75   2018-02-04 17:30:14.307324        13         18.6           170     35\n",
      "76   2018-02-04 18:30:14.307050        13         18.6           166     53\n",
      "77   2018-02-04 19:30:16.387356        13         18.3           165     35\n",
      "78   2018-02-04 20:30:15.277274        13         18.5           161     35\n",
      "79   2018-02-04 21:30:16.197330        13         18.3           162     35\n",
      "80   2018-02-04 23:30:13.215362        13         17.9           158     32\n",
      "81   2018-02-05 00:30:16.132638        13         17.8           157     14\n",
      "82   2018-02-05 01:30:16.107104        13         17.8           155     32\n",
      "83   2018-02-05 02:30:15.077351        13         17.7           152     32\n",
      "84   2018-02-05 03:30:14.027421        12         17.5           153     35\n",
      "85   2018-02-05 04:30:15.987385        12         17.4           151     32\n",
      "86   2018-02-05 05:30:13.957180        12         17.4           148     52\n",
      "87   2018-02-05 06:30:16.921819        12         17.3           147     17\n",
      "88   2018-02-05 07:30:16.017021        12         17.2           147    112\n",
      "89   2018-02-05 08:30:14.905815        12         17.3           144    422\n",
      "90   2018-02-05 09:30:13.897250        12         19.6           139   4506\n",
      "91   2018-02-05 10:30:14.847201        12         18.1           146   1602\n",
      "92   2018-02-05 11:30:14.787474        12         18.1           142   2419\n",
      "93   2018-02-05 12:30:15.782181        12         20.5           143   1021\n",
      "94   2018-02-05 13:30:15.727334        12         19.0           147   2763\n",
      "95   2018-02-05 14:30:14.737381        12         17.8           146    451\n",
      "96   2018-02-05 15:30:13.667340        11         17.5           142    194\n",
      "97   2018-02-05 16:30:14.594869        11         17.4           138     71\n",
      "98   2018-02-05 17:30:13.636338        11         17.2           139     52\n",
      "99   2018-02-05 18:30:15.564827        11         17.1           137     35\n",
      "100  2018-02-05 19:30:14.513565        11         16.8           134     17\n",
      "101  2018-02-05 20:30:13.537331        11         16.7           133     35\n",
      "102  2018-02-05 21:30:13.497296        11         16.6           133     17\n",
      "103  2018-02-05 22:30:14.447276        11         16.6           132     55\n",
      "104  2018-02-05 23:30:13.451914        11         16.4           131     55\n",
      "105  2018-02-06 00:30:13.407893        11         16.3           129     34\n",
      "106  2018-02-06 01:30:13.327345        11         16.1           130     14\n",
      "107  2018-02-06 02:30:14.317207        11         16.1           126     55\n",
      "108  2018-02-06 03:30:14.330507        11         16.0           124     17\n",
      "109  2018-02-06 04:30:17.314679        11         15.9           124     34\n",
      "110  2018-02-06 05:30:15.230539        11         15.9           123     34\n",
      "111  2018-02-06 06:30:14.380443        11         16.4           121     53\n",
      "112  2018-02-06 07:30:13.211441        11         17.0           121    194\n",
      "113  2018-02-06 08:30:15.213863        11         18.1           119   3137\n",
      "114  2018-02-06 09:30:14.111302        11         20.0           120   6762\n",
      "115  2018-02-06 10:30:15.107383        11         23.4           119   7826\n",
      "116  2018-02-06 11:30:14.062215        11         23.9           122  10092\n",
      "117  2018-02-06 12:30:17.078530        11         26.8           120  22136\n",
      "118  2018-02-06 13:30:16.027287        11         27.4           121  17135\n",
      "119  2018-02-06 14:30:14.988518        11         24.9           129   8738\n",
      "120  2018-02-06 15:30:13.957108        10         19.0           134    704\n",
      "121  2018-02-06 16:30:15.931840        10         17.7           126    128\n",
      "122  2018-02-06 17:30:15.029027        10         17.3           122     35\n",
      "123  2018-02-06 18:30:13.890579        10         18.4           114     13\n",
      "124  2018-02-06 19:30:14.987410        10         18.9           113     53\n",
      "125  2018-02-06 20:30:14.833017        10         18.8           113     13\n"
     ]
    }
   ],
   "source": [
    "import pandas as pd\n",
    "\n",
    "df = pd.read_csv('/data/measurements/C47C8D65CB0F.csv',\n",
    "                 names=['time', 'moisture', 'temperature', 'conductivity', 'light'])\n",
    "print(df.to_string())"
   ]
  },
  {
   "cell_type": "markdown",
   "metadata": {},
   "source": [
    "### Basic plotting\n",
    "\n",
    "Let us plot for example the moisture as a function of time. The first step is to extract the values from the dataframe into variables `x` and `y`. Plotting time is always tricky because of multiple formats and time zones. The code below shows how to transform the time values from the dataframe, represented as text, into something that the plotting library can interpret."
   ]
  },
  {
   "cell_type": "code",
   "execution_count": 4,
   "metadata": {
    "collapsed": true
   },
   "outputs": [],
   "source": [
    "from datetime import datetime\n",
    "\n",
    "x = [datetime.strptime(d, '%Y-%m-%d %H:%M:%S.%f') for d in df['time']]\n",
    "y = df['moisture']"
   ]
  },
  {
   "cell_type": "markdown",
   "metadata": {},
   "source": [
    "The actual plot can be created in a single line. However, the such plot does not have any text indicating what is plotted and the time labels are overlapping."
   ]
  },
  {
   "cell_type": "code",
   "execution_count": 5,
   "metadata": {},
   "outputs": [
    {
     "data": {
      "image/png": "[encoded data removed]",
      "text/plain": [
       "<matplotlib.figure.Figure at 0x7fedfdace550>"
      ]
     },
     "metadata": {},
     "output_type": "display_data"
    }
   ],
   "source": [
    "plt.plot(x, y, label='C47C8D65CB0F');"
   ]
  },
  {
   "cell_type": "markdown",
   "metadata": {},
   "source": [
    "### Improving style\n",
    "\n",
    "The style of the plot can be improved with a few additinoal lines of code."
   ]
  },
  {
   "cell_type": "code",
   "execution_count": 6,
   "metadata": {
    "scrolled": false
   },
   "outputs": [
    {
     "data": {
      "image/png": "[encoded data removed]",
      "text/plain": [
       "<matplotlib.figure.Figure at 0x7fedd4c370f0>"
      ]
     },
     "metadata": {},
     "output_type": "display_data"
    }
   ],
   "source": [
    "fig, ax = plt.subplots(figsize=(8, 6))\n",
    "\n",
    "# 'b-' stands for blue line\n",
    "ax.plot(x, y, 'b-', label='C47C8D65CB0F')\n",
    "\n",
    "# Show legend\n",
    "ax.legend()\n",
    "\n",
    "# Rotate the time axis labels and show them as month and day\n",
    "plt.xticks(rotation=45)\n",
    "ax.xaxis.set_major_locator(mdates.DayLocator())\n",
    "ax.xaxis.set_major_formatter(mdates.DateFormatter('%b %d'))\n",
    "\n",
    "# Show axis labels\n",
    "plt.xlabel('time')\n",
    "plt.ylabel('moisture');"
   ]
  },
  {
   "cell_type": "markdown",
   "metadata": {},
   "source": [
    "### Selecting data\n",
    "\n",
    "Maybe you want to remove some data points from the plots. For example, you did some testing before the real measurement started and wish to select only data after a certain date."
   ]
  },
  {
   "cell_type": "code",
   "execution_count": 7,
   "metadata": {},
   "outputs": [
    {
     "data": {
      "image/png": "[encoded data removed]",
      "text/plain": [
       "<matplotlib.figure.Figure at 0x7fedd4c15a58>"
      ]
     },
     "metadata": {},
     "output_type": "display_data"
    }
   ],
   "source": [
    "# Select data\n",
    "df_sel = df[df['time'] > '2018-02-02 08:30:00']\n",
    "\n",
    "# The remainig lines are the same as above\n",
    "x = [datetime.strptime(d, '%Y-%m-%d %H:%M:%S.%f') for d in df_sel['time']]\n",
    "y = df_sel['moisture']\n",
    "\n",
    "fig, ax = plt.subplots(figsize=(8, 6))\n",
    "ax.plot(x, y, 'b-', label='C47C8D65CB0F')\n",
    "ax.legend()\n",
    "plt.xticks(rotation=45)\n",
    "ax.xaxis.set_major_locator(mdates.DayLocator())\n",
    "ax.xaxis.set_major_formatter(mdates.DateFormatter('%b %d'))\n",
    "plt.xlabel('time')\n",
    "plt.ylabel('moisture');"
   ]
  },
  {
   "cell_type": "code",
   "execution_count": null,
   "metadata": {
    "collapsed": true
   },
   "outputs": [],
   "source": []
  }
 ],
 "metadata": {
  "kernelspec": {
   "display_name": "Python 3",
   "language": "python",
   "name": "python3"
  },
  "language_info": {
   "codemirror_mode": {
    "name": "ipython",
    "version": 3
   },
   "file_extension": ".py",
   "mimetype": "text/x-python",
   "name": "python",
   "nbconvert_exporter": "python",
   "pygments_lexer": "ipython3",
   "version": "3.6.3"
  }
 },
 "nbformat": 4,
 "nbformat_minor": 2
}
